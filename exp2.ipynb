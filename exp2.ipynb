import seaborn as sns
import pandas as pd
import matplotlib.pyplot as plt
iris=sns.load_dataset('iris')
iris.head()
iris.shape
iris ['species'].value_counts()
sns.set_style('whitegrid')
sns.FacetGrid(iris,hue="species",height=6).map(plt.scatter,'sepal_length','petal_length').add
_legend()
plt.show()
sns.boxplot(y='petal_width',data=iris,color='pink')
plt.show()
sns.jointplot(x='sepal_length',y='sepal_width',data=iris,color='red')
plt.show()
sns.heatmap(iris.corr(),cmap='Spectral')
plt.show()
sns.distplot(iris['sepal_width'],color='green')
plt.show()
