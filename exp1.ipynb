import numpy as np
import matplotlib.pyplot as plot
x=np.arange(0,3*np.pi,0.1)
y=np.sin(x)
plot.plot(x,y)
plot.show()
fig, ax = plot.subplots(2,2, figsize =
(10,6))ax[0][0].plot(x, np.sin(x), 'g')
ax[0][1].plot(x, np.cos(x), ':', color='purple')
ax[1][0].plot(x, np.sin(x), '--' , color='blue')
ax[1][1].plot(x, np.cos(x), '-.' ,
color='red')plot.tight_layout()
plot.show()
